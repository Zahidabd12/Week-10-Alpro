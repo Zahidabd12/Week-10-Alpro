{
 "cells": [
  {
   "cell_type": "code",
   "execution_count": 26,
   "metadata": {},
   "outputs": [
    {
     "name": "stdout",
     "output_type": "stream",
     "text": [
      "Total apel pada tahun 2021: 680 buah\n",
      "Total apel pada tahun 2022: 730 buah\n",
      "Total apel pada tahun 2023: 780 buah\n",
      "Total apel pada 3 tahun: 2190 buah\n",
      "Rata-rata hasil panen per pohon: 146.0 buah\n"
     ]
    }
   ],
   "source": [
    "hasil_panen = [\n",
    "    [120, 150, 180, 100, 130], \n",
    "    [130, 160, 190, 110, 140],\n",
    "    [140, 170, 200, 120, 150]\n",
    "]\n",
    "\n",
    "tahun_terbaik = 0\n",
    "total_tahun = 0\n",
    "total_semua = 0\n",
    "tahun = 2020\n",
    "rata_rata = 0\n",
    "jumlah_tahun = len(hasil_panen)\n",
    "jumlah_pohon = 5\n",
    "\n",
    "for th in hasil_panen:\n",
    "    tahun += 1\n",
    "    total = sum(th)\n",
    "    total_semua += total\n",
    "    print(f\"Total apel pada tahun {tahun}: {total} buah\")\n",
    "\n",
    "rata_rata = total_semua / (jumlah_tahun * jumlah_pohon)\n",
    "print(f\"Total apel pada 3 tahun: {total_semua} buah\")\n",
    "print(f\"Rata-rata hasil panen per pohon: {rata_rata} buah\")"
   ]
  },
  {
   "cell_type": "code",
   "execution_count": 31,
   "metadata": {},
   "outputs": [
    {
     "name": "stdout",
     "output_type": "stream",
     "text": [
      "Jumlah yang harus dibayar: Rp 90000\n"
     ]
    }
   ],
   "source": [
    "total_belanja = int(input(\"Masukkan Total Belanja: \"))\n",
    "total_setelah_diskon = 0\n",
    "\n",
    "if total_belanja > 200000:\n",
    "    diskon = 0.15\n",
    "elif total_belanja > 100000:\n",
    "    diskon = 0.10\n",
    "else:\n",
    "    diskon = 0\n",
    "\n",
    "total_setelah_diskon = total_belanja - (total_belanja * diskon)\n",
    "print(\"Jumlah yang harus dibayar: Rp\", total_setelah_diskon)"
   ]
  },
  {
   "cell_type": "code",
   "execution_count": null,
   "metadata": {},
   "outputs": [],
   "source": []
  }
 ],
 "metadata": {
  "kernelspec": {
   "display_name": "base",
   "language": "python",
   "name": "python3"
  },
  "language_info": {
   "codemirror_mode": {
    "name": "ipython",
    "version": 3
   },
   "file_extension": ".py",
   "mimetype": "text/x-python",
   "name": "python",
   "nbconvert_exporter": "python",
   "pygments_lexer": "ipython3",
   "version": "3.12.4"
  }
 },
 "nbformat": 4,
 "nbformat_minor": 2
}
